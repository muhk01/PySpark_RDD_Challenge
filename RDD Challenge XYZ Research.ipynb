{
 "cells": [
  {
   "cell_type": "markdown",
   "id": "dcf693e3",
   "metadata": {},
   "source": [
    "# RDD API - XYZ - Research"
   ]
  },
  {
   "cell_type": "markdown",
   "id": "e7dffe4d",
   "metadata": {},
   "source": [
    "Imagine working as a Data Scientist for a company called XYZ Research that performs research on many diversified topics, and each research project comes with a Research ID.\n",
    "\n",
    "Each Research can be completed within a year and beyond.\n",
    "\n",
    "Take a look at the data below;\n",
    "\n",
    "data2001List = ['RIN1', 'RIN2', 'RIN3', 'RIN4', 'RIN5', 'RIN6', 'RIN7']\n",
    "\n",
    "data2002List = ['RIN3', 'RIN4', 'RIN7', 'RIN8', 'RIN9']\n",
    "\n",
    "data2003List = ['RIN4', 'RIN8', 'RIN10', 'RIN11', 'RIN12']\n",
    "\n",
    "The above-mentioned data indicates the number of projects that have been completed over a period of 3 years.\n",
    "\n",
    "In 2001, there were at least 7 research projects [RIN1 - 7] that were initiated, RIN8 and RIN9 were initiated in 2002, while RIN10, RIN11, and RIN12 were initiated in 2003.\n",
    "\n",
    "RIN3 also appears in 2002, meaning that the research project has actually spanned over 2 years, RIN4, on the other hand, appears in 2001, 2002, and 2003 which means that the research project spanned over 3 years.\n",
    "\n",
    "XYZ Research Requires you to examine the data and find answers to the following questions;\n",
    "1. How many research projects were initiated in the three years?\n",
    "\n",
    "2. How many projects were completed in the first year?\n",
    "\n",
    "3. How many projects were completed in the first two years?\n",
    "\n",
    "4. How many Project were completed in the one year?\n",
    "\n",
    "5. How many Project were completed in the two years?\n",
    "\n",
    "6. How many Project were completed in the three years?"
   ]
  },
  {
   "cell_type": "code",
   "execution_count": 1,
   "id": "4620cf57",
   "metadata": {},
   "outputs": [],
   "source": [
    "from pyspark.sql import SparkSession\n",
    "spark = (SparkSession.builder.appName(\"XYZ Research\").getOrCreate())"
   ]
  },
  {
   "cell_type": "code",
   "execution_count": 26,
   "id": "21dc0b4c",
   "metadata": {},
   "outputs": [],
   "source": [
    "data2001List = ['RIN1', 'RIN2', 'RIN3', 'RIN4', 'RIN5', 'RIN6', 'RIN7']\n",
    "data2002List = ['RIN3', 'RIN4', 'RIN7', 'RIN8', 'RIN9']\n",
    "data2003List = ['RIN4', 'RIN8', 'RIN10', 'RIN11', 'RIN12']"
   ]
  },
  {
   "cell_type": "code",
   "execution_count": 27,
   "id": "e11ae806",
   "metadata": {},
   "outputs": [],
   "source": [
    "data2001RDD = spark.sparkContext.parallelize(data2001List)\n",
    "data2002RDD = spark.sparkContext.parallelize(data2002List)\n",
    "data2003RDD = spark.sparkContext.parallelize(data2003List)"
   ]
  },
  {
   "cell_type": "markdown",
   "id": "4f827af1",
   "metadata": {},
   "source": [
    "**Project Completed in First Year"
   ]
  },
  {
   "cell_type": "code",
   "execution_count": 28,
   "id": "5a9c41b4",
   "metadata": {},
   "outputs": [
    {
     "name": "stdout",
     "output_type": "stream",
     "text": [
      "completed in the first year ['RIN2', 'RIN5', 'RIN6', 'RIN1']\n"
     ]
    }
   ],
   "source": [
    "dataFirstYearRDD = data2001RDD.subtract(data2002RDD)\n",
    "firstYear = []\n",
    "for data in dataFirstYearRDD.collect():\n",
    "    firstYear.append(data)\n",
    "print(f\"completed in the first year {firstYear}\")"
   ]
  },
  {
   "cell_type": "markdown",
   "id": "3d5386f3",
   "metadata": {},
   "source": [
    "** Project Completed in first two years"
   ]
  },
  {
   "cell_type": "code",
   "execution_count": 30,
   "id": "d99ddf2d",
   "metadata": {},
   "outputs": [
    {
     "name": "stdout",
     "output_type": "stream",
     "text": [
      "completed in the first two year ['RIN1', 'RIN9', 'RIN2', 'RIN3', 'RIN5', 'RIN6', 'RIN7']\n"
     ]
    }
   ],
   "source": [
    "UnionFirstTwoYear = data2001RDD.union(data2002RDD)\n",
    "dataFirstTwoYearRDD = UnionFirstTwoYear.subtract(data2003RDD)\n",
    "firstTwoYear = []\n",
    "for data in dataFirstTwoYearRDD.distinct().collect():\n",
    "    firstTwoYear.append(data)\n",
    "print(f\"completed in the first two year {firstTwoYear}\")"
   ]
  },
  {
   "cell_type": "markdown",
   "id": "2994ee5c",
   "metadata": {},
   "source": [
    "** Project Initiated in Three Years"
   ]
  },
  {
   "cell_type": "code",
   "execution_count": 31,
   "id": "70a24348",
   "metadata": {},
   "outputs": [
    {
     "name": "stdout",
     "output_type": "stream",
     "text": [
      "Initiate in three Years ['RIN4']\n"
     ]
    }
   ],
   "source": [
    "TwoYearsInitiate = data2001RDD.intersection(data2002RDD)\n",
    "ThreeYearsInitiate = TwoYearsInitiate.intersection(data2003RDD)\n",
    "threeYearsInitiateData = []\n",
    "for data in ThreeYearsInitiate.distinct().collect():\n",
    "    threeYearsInitiateData.append(data)\n",
    "print(f\"Initiate in three Years {threeYearsInitiateData}\")"
   ]
  },
  {
   "cell_type": "markdown",
   "id": "1987e10c",
   "metadata": {},
   "source": [
    "** How many project completed in One Years, Two Years, and Three Years?"
   ]
  },
  {
   "cell_type": "code",
   "execution_count": 4,
   "id": "b5813b1f",
   "metadata": {},
   "outputs": [],
   "source": [
    "research_rdd = spark.sparkContext.parallelize([data2001List, data2002List, data2003List])"
   ]
  },
  {
   "cell_type": "code",
   "execution_count": 6,
   "id": "199c757c",
   "metadata": {},
   "outputs": [],
   "source": [
    "flattened_rdd = research_rdd.flatMap(lambda arr: arr)"
   ]
  },
  {
   "cell_type": "code",
   "execution_count": 7,
   "id": "6d075a83",
   "metadata": {},
   "outputs": [
    {
     "name": "stdout",
     "output_type": "stream",
     "text": [
      "RIN1\n",
      "RIN2\n",
      "RIN3\n",
      "RIN4\n",
      "RIN5\n",
      "RIN6\n",
      "RIN7\n",
      "RIN3\n",
      "RIN4\n",
      "RIN7\n",
      "RIN8\n",
      "RIN9\n",
      "RIN4\n",
      "RIN8\n",
      "RIN10\n",
      "RIN11\n",
      "RIN12\n"
     ]
    }
   ],
   "source": [
    "for data in flattened_rdd.collect():\n",
    "    print(data)"
   ]
  },
  {
   "cell_type": "code",
   "execution_count": 17,
   "id": "e71de09f",
   "metadata": {},
   "outputs": [],
   "source": [
    "count_by_value = flattened_rdd.countByValue()\n",
    "project1times=[]\n",
    "project2times=[]\n",
    "project3times=[]\n",
    "for element, count in count_by_value.items():\n",
    "    if count == 1:\n",
    "        project1times.append(element)\n",
    "    elif count == 2:\n",
    "        project2times.append(element)\n",
    "    elif count == 3:\n",
    "        project3times.append(element)"
   ]
  },
  {
   "cell_type": "code",
   "execution_count": 21,
   "id": "3359e4fd",
   "metadata": {},
   "outputs": [
    {
     "name": "stdout",
     "output_type": "stream",
     "text": [
      "Project were completed in the one year ['RIN1', 'RIN2', 'RIN5', 'RIN6', 'RIN9', 'RIN10', 'RIN11', 'RIN12']\n",
      "Project were completed in the two years ['RIN3', 'RIN7', 'RIN8']\n",
      "Project were completed in the three years ['RIN4']\n"
     ]
    }
   ],
   "source": [
    "print(f\"Project were completed in the one year {project1times}\")\n",
    "print(f\"Project were completed in the two years {project2times}\")\n",
    "print(f\"Project were completed in the three years {project3times}\")"
   ]
  }
 ],
 "metadata": {
  "kernelspec": {
   "display_name": "Python 3 (ipykernel)",
   "language": "python",
   "name": "python3"
  },
  "language_info": {
   "codemirror_mode": {
    "name": "ipython",
    "version": 3
   },
   "file_extension": ".py",
   "mimetype": "text/x-python",
   "name": "python",
   "nbconvert_exporter": "python",
   "pygments_lexer": "ipython3",
   "version": "3.7.9"
  }
 },
 "nbformat": 4,
 "nbformat_minor": 5
}
